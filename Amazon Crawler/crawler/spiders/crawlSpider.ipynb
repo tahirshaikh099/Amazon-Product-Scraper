{
 "cells": [
  {
   "cell_type": "code",
   "execution_count": 13,
   "id": "feda5d81",
   "metadata": {},
   "outputs": [],
   "source": [
    "import scrapy"
   ]
  },
  {
   "cell_type": "code",
   "execution_count": 12,
   "id": "9e751b0d",
   "metadata": {},
   "outputs": [],
   "source": [
    "class crawlSpider(scrapy.Spider):\n",
    "    name='crawlSpider'\n",
    "    start_urls=['https://www.amazon.in/s?k=iphone+case&rh=n%3A976419031%2Cp_36%3A1318503031&dc&qid=1630913192&rnid=1318502031&ref=sr_nr_p_36_1']\n",
    "    rate = 1\n",
    "    \n",
    "    def parse(self, response):\n",
    "        product_Name = response.css('span.a-size-base-plus.a-color-base.a-text-normal').get()\n",
    "        product_Rating = response.css('div.a-section.a-spacing-none.a-spacing-top-micro > div.a-row.a-size-small > span::attr(aria-label)').get()\n",
    "        product_Price = response.css('span.a-text-price > span.a-offscreen::text').get().replace(\"₹\",\"\")\n",
    "        product_DiscPrice = response.css('span.a-price-whole::text').get()\n",
    "        product_Link = 'amazon.in'+response.css('a.a-link-normal.a-text-normal').attrib['href']\n",
    "        data = zip(product_Name,product_Rating,product_Price,product_DiscPrice,product_Link)\n",
    "        for item in data:\n",
    "            scrapedData={\n",
    "                'Product Name' : item[0],\n",
    "                'Product Rating' : item[1],\n",
    "                'Product Original Price' : item[2],\n",
    "                'Product Discounted Price' : item[3],\n",
    "                'Product Link' : item[4],\n",
    "            }\n",
    "            yeild scrapedData\n",
    "    def __init__(self):\n",
    "        self.download_delay = 1/float(self.rate)"
   ]
  },
  {
   "cell_type": "code",
   "execution_count": null,
   "id": "60210944",
   "metadata": {},
   "outputs": [],
   "source": []
  }
 ],
 "metadata": {
  "kernelspec": {
   "display_name": "Python 3",
   "language": "python",
   "name": "python3"
  },
  "language_info": {
   "codemirror_mode": {
    "name": "ipython",
    "version": 3
   },
   "file_extension": ".py",
   "mimetype": "text/x-python",
   "name": "python",
   "nbconvert_exporter": "python",
   "pygments_lexer": "ipython3",
   "version": "3.8.8"
  }
 },
 "nbformat": 4,
 "nbformat_minor": 5
}
